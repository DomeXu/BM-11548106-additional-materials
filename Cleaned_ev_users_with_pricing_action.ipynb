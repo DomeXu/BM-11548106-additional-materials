{
 "cells": [
  {
   "cell_type": "code",
   "execution_count": null,
   "id": "e610540a",
   "metadata": {},
   "outputs": [
    {
     "name": "stdout",
     "output_type": "stream",
     "text": [
      "Normalized CSV file has been saved to: C:\\Users\\曦曦yyds\\Desktop\\ppo_csv_normalized.csv\n"
     ]
    }
   ],
   "source": [
    "import pandas as pd\n",
    "\n",
    "# Input and output files (absolute paths)\n",
    "input_file = r\"C:\\Users\\曦曦yyds\\Desktop\\ev_users_with_pricing_action.csv\"\n",
    "output_file = r\"C:\\Users\\曦曦yyds\\Desktop\\ppo_csv_normalised.csv\"\n",
    "\n",
    "# Read data\n",
    "df = pd.read_csv(input_file)\n",
    "\n",
    "# Check if the required column exists\n",
    "if \"recommended_action_value\" not in df.columns:\n",
    "    raise ValueError(\"The CSV file does not contain a 'recommended_action_value' column, please check the file structure!\")\n",
    "\n",
    "# Extract action values\n",
    "actions = df[\"recommended_action_value\"].astype(float)\n",
    "\n",
    "# --- Normalisation ---\n",
    "# 1. Center by subtracting the mean\n",
    "actions_centered = actions - actions.mean()\n",
    "\n",
    "# 2. Standardize (divide by std deviation)\n",
    "std = actions_centered.std()\n",
    "if std > 1e-6:\n",
    "    actions_norm = actions_centered / std\n",
    "else:\n",
    "    actions_norm = actions_centered  # Avoid division by zero\n",
    "\n",
    "# 3. Clip values to [-1, 1]\n",
    "actions_clipped = actions_norm.clip(-1, 1)\n",
    "\n",
    "# 4. Scale to [-0.2, 0.2] range (similar to original magnitude)\n",
    "actions_scaled = actions_clipped * 0.2\n",
    "\n",
    "# Replace column in DataFrame\n",
    "df[\"recommended_action_value\"] = actions_scaled\n",
    "\n",
    "# Save the cleaned file\n",
    "df.to_csv(output_file, index=False, encoding=\"utf-8\")\n",
    "print(f\"Normalised CSV file has been saved to: {output_file}\")"
   ]
  }
 ],
 "metadata": {
  "kernelspec": {
   "display_name": "Python 3",
   "language": "python",
   "name": "python3"
  },
  "language_info": {
   "codemirror_mode": {
    "name": "ipython",
    "version": 3
   },
   "file_extension": ".py",
   "mimetype": "text/x-python",
   "name": "python",
   "nbconvert_exporter": "python",
   "pygments_lexer": "ipython3",
   "version": "3.11.9"
  }
 },
 "nbformat": 4,
 "nbformat_minor": 5
}
